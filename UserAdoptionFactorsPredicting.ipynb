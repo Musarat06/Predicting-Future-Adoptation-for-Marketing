{
 "cells": [
  {
   "cell_type": "markdown",
   "metadata": {},
   "source": [
    "# Indicators of Future Adoption"
   ]
  },
  {
   "cell_type": "markdown",
   "metadata": {},
   "source": [
    "Some user logged into a product more frequectly than othes. The more a user logged into the product, the more it is better for business companies. There are many features that can indicate or predicts user with more frequent logged in to the product. The availbel datasets contain many features of all the users. The features includes email domain, creation source, personal projects, guest invite, org invite, signup, creation time, last session creation time, invited by user it etc. Among all of them some might indicate the more frequent user. It is possible that frequent user share same features than others. The aim of this project is to analyze all the dataset and extract the common features of adopted users. It will be done by analyzing the common feature of the frequent user and see if they share something common or not. The more dominent common feature among them will be the indicators of future adoptation. "
   ]
  },
  {
   "cell_type": "markdown",
   "metadata": {},
   "source": [
    "## Methodology"
   ]
  },
  {
   "cell_type": "markdown",
   "metadata": {},
   "source": [
    "### Importing Libraries"
   ]
  },
  {
   "cell_type": "code",
   "execution_count": null,
   "metadata": {},
   "outputs": [],
   "source": [
    "import numpy as np\n",
    "import pandas as pd\n",
    "import matplotlib.pyplot as plt\n",
    "from datetime import date"
   ]
  },
  {
   "cell_type": "markdown",
   "metadata": {},
   "source": [
    "### Reading the datasets"
   ]
  },
  {
   "cell_type": "code",
   "execution_count": 3,
   "metadata": {},
   "outputs": [],
   "source": [
    "path = r'D:\\Freelancing\\Python_Freelancing\\Indicator_to_Future_Adoptation'\n",
    "dfUserIntern = pd.read_csv(path+'\\\\takehome_users-intern.csv', encoding='latin-1')\n",
    "dfUserEngagementIntern = pd.read_csv(path+'\\\\takehome_user_engagement-intern.csv', encoding='latin-1')"
   ]
  },
  {
   "cell_type": "code",
   "execution_count": 4,
   "metadata": {},
   "outputs": [
    {
     "name": "stdout",
     "output_type": "stream",
     "text": [
      "The total length of the original dataset is: 207917\n"
     ]
    }
   ],
   "source": [
    "print (\"The total length of the original dataset is:\", len(dfUserEngagementIntern))"
   ]
  },
  {
   "cell_type": "markdown",
   "metadata": {},
   "source": [
    "### Printing out the dataframe to check how our data looks like"
   ]
  },
  {
   "cell_type": "code",
   "execution_count": 5,
   "metadata": {},
   "outputs": [
    {
     "data": {
      "text/html": [
       "<div>\n",
       "<style scoped>\n",
       "    .dataframe tbody tr th:only-of-type {\n",
       "        vertical-align: middle;\n",
       "    }\n",
       "\n",
       "    .dataframe tbody tr th {\n",
       "        vertical-align: top;\n",
       "    }\n",
       "\n",
       "    .dataframe thead th {\n",
       "        text-align: right;\n",
       "    }\n",
       "</style>\n",
       "<table border=\"1\" class=\"dataframe\">\n",
       "  <thead>\n",
       "    <tr style=\"text-align: right;\">\n",
       "      <th></th>\n",
       "      <th>time_stamp</th>\n",
       "      <th>user_id</th>\n",
       "      <th>visited</th>\n",
       "    </tr>\n",
       "  </thead>\n",
       "  <tbody>\n",
       "    <tr>\n",
       "      <th>0</th>\n",
       "      <td>2014-04-22 03:53:30</td>\n",
       "      <td>1</td>\n",
       "      <td>1</td>\n",
       "    </tr>\n",
       "    <tr>\n",
       "      <th>1</th>\n",
       "      <td>2013-11-15 03:45:04</td>\n",
       "      <td>2</td>\n",
       "      <td>1</td>\n",
       "    </tr>\n",
       "    <tr>\n",
       "      <th>2</th>\n",
       "      <td>2013-11-29 03:45:04</td>\n",
       "      <td>2</td>\n",
       "      <td>1</td>\n",
       "    </tr>\n",
       "    <tr>\n",
       "      <th>3</th>\n",
       "      <td>2013-12-09 03:45:04</td>\n",
       "      <td>2</td>\n",
       "      <td>1</td>\n",
       "    </tr>\n",
       "    <tr>\n",
       "      <th>4</th>\n",
       "      <td>2013-12-25 03:45:04</td>\n",
       "      <td>2</td>\n",
       "      <td>1</td>\n",
       "    </tr>\n",
       "    <tr>\n",
       "      <th>...</th>\n",
       "      <td>...</td>\n",
       "      <td>...</td>\n",
       "      <td>...</td>\n",
       "    </tr>\n",
       "    <tr>\n",
       "      <th>207912</th>\n",
       "      <td>2013-09-06 06:14:15</td>\n",
       "      <td>11996</td>\n",
       "      <td>1</td>\n",
       "    </tr>\n",
       "    <tr>\n",
       "      <th>207913</th>\n",
       "      <td>2013-01-15 18:28:37</td>\n",
       "      <td>11997</td>\n",
       "      <td>1</td>\n",
       "    </tr>\n",
       "    <tr>\n",
       "      <th>207914</th>\n",
       "      <td>2014-04-27 12:45:16</td>\n",
       "      <td>11998</td>\n",
       "      <td>1</td>\n",
       "    </tr>\n",
       "    <tr>\n",
       "      <th>207915</th>\n",
       "      <td>2012-06-02 11:55:59</td>\n",
       "      <td>11999</td>\n",
       "      <td>1</td>\n",
       "    </tr>\n",
       "    <tr>\n",
       "      <th>207916</th>\n",
       "      <td>2014-01-26 08:57:12</td>\n",
       "      <td>12000</td>\n",
       "      <td>1</td>\n",
       "    </tr>\n",
       "  </tbody>\n",
       "</table>\n",
       "<p>207917 rows × 3 columns</p>\n",
       "</div>"
      ],
      "text/plain": [
       "                 time_stamp  user_id  visited\n",
       "0       2014-04-22 03:53:30        1        1\n",
       "1       2013-11-15 03:45:04        2        1\n",
       "2       2013-11-29 03:45:04        2        1\n",
       "3       2013-12-09 03:45:04        2        1\n",
       "4       2013-12-25 03:45:04        2        1\n",
       "...                     ...      ...      ...\n",
       "207912  2013-09-06 06:14:15    11996        1\n",
       "207913  2013-01-15 18:28:37    11997        1\n",
       "207914  2014-04-27 12:45:16    11998        1\n",
       "207915  2012-06-02 11:55:59    11999        1\n",
       "207916  2014-01-26 08:57:12    12000        1\n",
       "\n",
       "[207917 rows x 3 columns]"
      ]
     },
     "execution_count": 5,
     "metadata": {},
     "output_type": "execute_result"
    }
   ],
   "source": [
    "dfUserEngagementIntern"
   ]
  },
  {
   "cell_type": "markdown",
   "metadata": {},
   "source": [
    "### Splitting the date from time and storing that in a new column"
   ]
  },
  {
   "cell_type": "code",
   "execution_count": 6,
   "metadata": {},
   "outputs": [],
   "source": [
    "df = pd.DataFrame(columns = ['timestamp'])\n",
    "df['timestamp'] = dfUserEngagementIntern['time_stamp'].apply(lambda x : pd.to_datetime(str(x)))\n",
    "dfUserEngagementIntern['dates'] = df['timestamp'].dt.date"
   ]
  },
  {
   "cell_type": "markdown",
   "metadata": {},
   "source": [
    "### Printing out the dataframe to check how our data looks like now"
   ]
  },
  {
   "cell_type": "code",
   "execution_count": 7,
   "metadata": {},
   "outputs": [
    {
     "data": {
      "text/html": [
       "<div>\n",
       "<style scoped>\n",
       "    .dataframe tbody tr th:only-of-type {\n",
       "        vertical-align: middle;\n",
       "    }\n",
       "\n",
       "    .dataframe tbody tr th {\n",
       "        vertical-align: top;\n",
       "    }\n",
       "\n",
       "    .dataframe thead th {\n",
       "        text-align: right;\n",
       "    }\n",
       "</style>\n",
       "<table border=\"1\" class=\"dataframe\">\n",
       "  <thead>\n",
       "    <tr style=\"text-align: right;\">\n",
       "      <th></th>\n",
       "      <th>time_stamp</th>\n",
       "      <th>user_id</th>\n",
       "      <th>visited</th>\n",
       "      <th>dates</th>\n",
       "    </tr>\n",
       "  </thead>\n",
       "  <tbody>\n",
       "    <tr>\n",
       "      <th>0</th>\n",
       "      <td>2014-04-22 03:53:30</td>\n",
       "      <td>1</td>\n",
       "      <td>1</td>\n",
       "      <td>2014-04-22</td>\n",
       "    </tr>\n",
       "    <tr>\n",
       "      <th>1</th>\n",
       "      <td>2013-11-15 03:45:04</td>\n",
       "      <td>2</td>\n",
       "      <td>1</td>\n",
       "      <td>2013-11-15</td>\n",
       "    </tr>\n",
       "    <tr>\n",
       "      <th>2</th>\n",
       "      <td>2013-11-29 03:45:04</td>\n",
       "      <td>2</td>\n",
       "      <td>1</td>\n",
       "      <td>2013-11-29</td>\n",
       "    </tr>\n",
       "    <tr>\n",
       "      <th>3</th>\n",
       "      <td>2013-12-09 03:45:04</td>\n",
       "      <td>2</td>\n",
       "      <td>1</td>\n",
       "      <td>2013-12-09</td>\n",
       "    </tr>\n",
       "    <tr>\n",
       "      <th>4</th>\n",
       "      <td>2013-12-25 03:45:04</td>\n",
       "      <td>2</td>\n",
       "      <td>1</td>\n",
       "      <td>2013-12-25</td>\n",
       "    </tr>\n",
       "    <tr>\n",
       "      <th>...</th>\n",
       "      <td>...</td>\n",
       "      <td>...</td>\n",
       "      <td>...</td>\n",
       "      <td>...</td>\n",
       "    </tr>\n",
       "    <tr>\n",
       "      <th>207912</th>\n",
       "      <td>2013-09-06 06:14:15</td>\n",
       "      <td>11996</td>\n",
       "      <td>1</td>\n",
       "      <td>2013-09-06</td>\n",
       "    </tr>\n",
       "    <tr>\n",
       "      <th>207913</th>\n",
       "      <td>2013-01-15 18:28:37</td>\n",
       "      <td>11997</td>\n",
       "      <td>1</td>\n",
       "      <td>2013-01-15</td>\n",
       "    </tr>\n",
       "    <tr>\n",
       "      <th>207914</th>\n",
       "      <td>2014-04-27 12:45:16</td>\n",
       "      <td>11998</td>\n",
       "      <td>1</td>\n",
       "      <td>2014-04-27</td>\n",
       "    </tr>\n",
       "    <tr>\n",
       "      <th>207915</th>\n",
       "      <td>2012-06-02 11:55:59</td>\n",
       "      <td>11999</td>\n",
       "      <td>1</td>\n",
       "      <td>2012-06-02</td>\n",
       "    </tr>\n",
       "    <tr>\n",
       "      <th>207916</th>\n",
       "      <td>2014-01-26 08:57:12</td>\n",
       "      <td>12000</td>\n",
       "      <td>1</td>\n",
       "      <td>2014-01-26</td>\n",
       "    </tr>\n",
       "  </tbody>\n",
       "</table>\n",
       "<p>207917 rows × 4 columns</p>\n",
       "</div>"
      ],
      "text/plain": [
       "                 time_stamp  user_id  visited       dates\n",
       "0       2014-04-22 03:53:30        1        1  2014-04-22\n",
       "1       2013-11-15 03:45:04        2        1  2013-11-15\n",
       "2       2013-11-29 03:45:04        2        1  2013-11-29\n",
       "3       2013-12-09 03:45:04        2        1  2013-12-09\n",
       "4       2013-12-25 03:45:04        2        1  2013-12-25\n",
       "...                     ...      ...      ...         ...\n",
       "207912  2013-09-06 06:14:15    11996        1  2013-09-06\n",
       "207913  2013-01-15 18:28:37    11997        1  2013-01-15\n",
       "207914  2014-04-27 12:45:16    11998        1  2014-04-27\n",
       "207915  2012-06-02 11:55:59    11999        1  2012-06-02\n",
       "207916  2014-01-26 08:57:12    12000        1  2014-01-26\n",
       "\n",
       "[207917 rows x 4 columns]"
      ]
     },
     "execution_count": 7,
     "metadata": {},
     "output_type": "execute_result"
    }
   ],
   "source": [
    "dfUserEngagementIntern"
   ]
  },
  {
   "cell_type": "markdown",
   "metadata": {},
   "source": [
    "### Processing the dataframe to extract the Adopted Users"
   ]
  },
  {
   "cell_type": "markdown",
   "metadata": {},
   "source": [
    "Since we have defined our **Adopted User** as the one who has logged into the product on three separate days in at least one seven-day period, so we filter out the data and select only those users who have atleast logged in three times to clean our dataset."
   ]
  },
  {
   "cell_type": "code",
   "execution_count": 8,
   "metadata": {},
   "outputs": [],
   "source": [
    "dfUserEngagementInternFiltered = dfUserEngagementIntern.groupby('user_id').filter(lambda x: len(x) > 2)"
   ]
  },
  {
   "cell_type": "code",
   "execution_count": 9,
   "metadata": {},
   "outputs": [
    {
     "name": "stdout",
     "output_type": "stream",
     "text": [
      "The total length of the filtered dataset is: 201002\n"
     ]
    }
   ],
   "source": [
    "print (\"The total length of the filtered dataset is:\", len(dfUserEngagementInternFiltered))"
   ]
  },
  {
   "cell_type": "markdown",
   "metadata": {},
   "source": [
    "The following piece of code extracts the Adopted User. It first extracts the data for each unique user id, and then checks if the selected user has logged into the product on three separate days in at least one seven-day period or not. If yes, then it appends the 'adoptedUsers' list."
   ]
  },
  {
   "cell_type": "code",
   "execution_count": 11,
   "metadata": {},
   "outputs": [],
   "source": [
    "# Sorting the filtered dataframe based on the user ids\n",
    "dfUserEngagementInternFilteredSorted = dfUserEngagementInternFiltered.sort_values('user_id')\n",
    "\n",
    "# Storing the unique user IDs into the userIDs list to have record of each user\n",
    "userIDs = np.unique(dfUserEngagementInternFilteredSorted['user_id'])\n",
    "adoptedUsers = []\n",
    "\n",
    "for userID in userIDs:\n",
    "    uniqueData = dfUserEngagementInternFilteredSorted[dfUserEngagementInternFilteredSorted['user_id'] == userID]\n",
    "    uniqueDataSorted = uniqueData.sort_values('dates')\n",
    "    for i in range(0,len(uniqueDataSorted['dates']),3):\n",
    "        try:\n",
    "            d1 = uniqueDataSorted['dates'].values[i]\n",
    "            d2 = uniqueDataSorted['dates'].values[i+1]\n",
    "            d3 = uniqueDataSorted['dates'].values[i+2]\n",
    "\n",
    "            Datediff1 = abs(d2-d1).days\n",
    "            Datediff2 = abs(d3-d2).days\n",
    "\n",
    "            if (Datediff1<8 and Datediff2<8):\n",
    "                #print(d1,d2,d3)\n",
    "                adoptedUsers.append(uniqueDataSorted['user_id'].values[i])\n",
    "        except:\n",
    "            pass\n",
    "        "
   ]
  },
  {
   "cell_type": "markdown",
   "metadata": {},
   "source": [
    "Since we have appended Adopted User everytime if user has logged on in seven day period, so it has repeated values as well. So we select only the unique ids to get final output of adopted users."
   ]
  },
  {
   "cell_type": "code",
   "execution_count": 12,
   "metadata": {},
   "outputs": [],
   "source": [
    "adoptedUsers = np.unique(adoptedUsers)"
   ]
  },
  {
   "cell_type": "code",
   "execution_count": 13,
   "metadata": {},
   "outputs": [
    {
     "name": "stdout",
     "output_type": "stream",
     "text": [
      "The total length of the adopted users is: 1662\n"
     ]
    }
   ],
   "source": [
    "print (\"The total length of the adopted users is:\", len(adoptedUsers))"
   ]
  },
  {
   "cell_type": "markdown",
   "metadata": {},
   "source": [
    "### Factors predicting the User Adoption"
   ]
  },
  {
   "cell_type": "markdown",
   "metadata": {},
   "source": [
    "Selecting only the data of users who are adopted users."
   ]
  },
  {
   "cell_type": "code",
   "execution_count": 14,
   "metadata": {},
   "outputs": [],
   "source": [
    "adoptedUserIterns = dfUserIntern[dfUserIntern['object_id'].isin(adoptedUsers)]"
   ]
  },
  {
   "cell_type": "markdown",
   "metadata": {},
   "source": [
    "Printing the dataframe to see how it looks like"
   ]
  },
  {
   "cell_type": "code",
   "execution_count": 15,
   "metadata": {},
   "outputs": [
    {
     "data": {
      "text/html": [
       "<div>\n",
       "<style scoped>\n",
       "    .dataframe tbody tr th:only-of-type {\n",
       "        vertical-align: middle;\n",
       "    }\n",
       "\n",
       "    .dataframe tbody tr th {\n",
       "        vertical-align: top;\n",
       "    }\n",
       "\n",
       "    .dataframe thead th {\n",
       "        text-align: right;\n",
       "    }\n",
       "</style>\n",
       "<table border=\"1\" class=\"dataframe\">\n",
       "  <thead>\n",
       "    <tr style=\"text-align: right;\">\n",
       "      <th></th>\n",
       "      <th>object_id</th>\n",
       "      <th>creation_time</th>\n",
       "      <th>name</th>\n",
       "      <th>email</th>\n",
       "      <th>creation_source</th>\n",
       "      <th>last_session_creation_time</th>\n",
       "      <th>opted_in_to_mailing_list</th>\n",
       "      <th>enabled_for_marketing_drip</th>\n",
       "      <th>org_id</th>\n",
       "      <th>invited_by_user_id</th>\n",
       "      <th>email_domain</th>\n",
       "    </tr>\n",
       "  </thead>\n",
       "  <tbody>\n",
       "    <tr>\n",
       "      <th>1</th>\n",
       "      <td>2</td>\n",
       "      <td>2013-11-15 03:45:04</td>\n",
       "      <td>Poole Matthew</td>\n",
       "      <td>MatthewPoole@gustr.com</td>\n",
       "      <td>ORG_INVITE</td>\n",
       "      <td>1.396238e+09</td>\n",
       "      <td>0</td>\n",
       "      <td>0</td>\n",
       "      <td>1</td>\n",
       "      <td>316.0</td>\n",
       "      <td>gustr.com</td>\n",
       "    </tr>\n",
       "    <tr>\n",
       "      <th>9</th>\n",
       "      <td>10</td>\n",
       "      <td>2013-01-16 22:08:03</td>\n",
       "      <td>Santos Carla</td>\n",
       "      <td>CarlaFerreiraSantos@gustr.com</td>\n",
       "      <td>ORG_INVITE</td>\n",
       "      <td>1.401833e+09</td>\n",
       "      <td>1</td>\n",
       "      <td>1</td>\n",
       "      <td>318</td>\n",
       "      <td>4143.0</td>\n",
       "      <td>gustr.com</td>\n",
       "    </tr>\n",
       "    <tr>\n",
       "      <th>19</th>\n",
       "      <td>20</td>\n",
       "      <td>2014-03-06 11:46:38</td>\n",
       "      <td>Helms Mikayla</td>\n",
       "      <td>lqyvjilf@uhzdq.com</td>\n",
       "      <td>SIGNUP</td>\n",
       "      <td>1.401364e+09</td>\n",
       "      <td>0</td>\n",
       "      <td>0</td>\n",
       "      <td>58</td>\n",
       "      <td>NaN</td>\n",
       "      <td>uhzdq.com</td>\n",
       "    </tr>\n",
       "    <tr>\n",
       "      <th>32</th>\n",
       "      <td>33</td>\n",
       "      <td>2014-03-11 06:29:09</td>\n",
       "      <td>Araujo José</td>\n",
       "      <td>JoseMartinsAraujo@cuvox.de</td>\n",
       "      <td>GUEST_INVITE</td>\n",
       "      <td>1.401518e+09</td>\n",
       "      <td>0</td>\n",
       "      <td>0</td>\n",
       "      <td>401</td>\n",
       "      <td>79.0</td>\n",
       "      <td>cuvox.de</td>\n",
       "    </tr>\n",
       "    <tr>\n",
       "      <th>41</th>\n",
       "      <td>42</td>\n",
       "      <td>2012-11-11 19:05:07</td>\n",
       "      <td>Pinto Giovanna</td>\n",
       "      <td>GiovannaCunhaPinto@cuvox.de</td>\n",
       "      <td>SIGNUP</td>\n",
       "      <td>1.401045e+09</td>\n",
       "      <td>1</td>\n",
       "      <td>0</td>\n",
       "      <td>235</td>\n",
       "      <td>NaN</td>\n",
       "      <td>cuvox.de</td>\n",
       "    </tr>\n",
       "    <tr>\n",
       "      <th>...</th>\n",
       "      <td>...</td>\n",
       "      <td>...</td>\n",
       "      <td>...</td>\n",
       "      <td>...</td>\n",
       "      <td>...</td>\n",
       "      <td>...</td>\n",
       "      <td>...</td>\n",
       "      <td>...</td>\n",
       "      <td>...</td>\n",
       "      <td>...</td>\n",
       "      <td>...</td>\n",
       "    </tr>\n",
       "    <tr>\n",
       "      <th>11966</th>\n",
       "      <td>11967</td>\n",
       "      <td>2014-01-12 08:12:37</td>\n",
       "      <td>Barbosa Pedro</td>\n",
       "      <td>PedroFernandesBarbosa@gmail.com</td>\n",
       "      <td>GUEST_INVITE</td>\n",
       "      <td>1.401524e+09</td>\n",
       "      <td>0</td>\n",
       "      <td>0</td>\n",
       "      <td>15</td>\n",
       "      <td>5688.0</td>\n",
       "      <td>gmail.com</td>\n",
       "    </tr>\n",
       "    <tr>\n",
       "      <th>11968</th>\n",
       "      <td>11969</td>\n",
       "      <td>2013-06-01 00:48:14</td>\n",
       "      <td>Dickinson Aidan</td>\n",
       "      <td>AidanDickinson@hotmail.com</td>\n",
       "      <td>GUEST_INVITE</td>\n",
       "      <td>1.401411e+09</td>\n",
       "      <td>1</td>\n",
       "      <td>1</td>\n",
       "      <td>52</td>\n",
       "      <td>6647.0</td>\n",
       "      <td>hotmail.com</td>\n",
       "    </tr>\n",
       "    <tr>\n",
       "      <th>11974</th>\n",
       "      <td>11975</td>\n",
       "      <td>2013-03-23 11:10:11</td>\n",
       "      <td>Daecher Jürgen</td>\n",
       "      <td>JurgenDaecher@gustr.com</td>\n",
       "      <td>GUEST_INVITE</td>\n",
       "      <td>1.400757e+09</td>\n",
       "      <td>1</td>\n",
       "      <td>0</td>\n",
       "      <td>31</td>\n",
       "      <td>6410.0</td>\n",
       "      <td>gustr.com</td>\n",
       "    </tr>\n",
       "    <tr>\n",
       "      <th>11987</th>\n",
       "      <td>11988</td>\n",
       "      <td>2014-03-15 11:04:47</td>\n",
       "      <td>Minick John</td>\n",
       "      <td>JohnFMinick@yahoo.com</td>\n",
       "      <td>PERSONAL_PROJECTS</td>\n",
       "      <td>1.401621e+09</td>\n",
       "      <td>0</td>\n",
       "      <td>0</td>\n",
       "      <td>114</td>\n",
       "      <td>NaN</td>\n",
       "      <td>yahoo.com</td>\n",
       "    </tr>\n",
       "    <tr>\n",
       "      <th>11990</th>\n",
       "      <td>11991</td>\n",
       "      <td>2014-04-20 14:22:45</td>\n",
       "      <td>Vaughn Arthur</td>\n",
       "      <td>ArthurJVaughn@gmail.com</td>\n",
       "      <td>SIGNUP_GOOGLE_AUTH</td>\n",
       "      <td>1.401460e+09</td>\n",
       "      <td>0</td>\n",
       "      <td>0</td>\n",
       "      <td>388</td>\n",
       "      <td>NaN</td>\n",
       "      <td>gmail.com</td>\n",
       "    </tr>\n",
       "  </tbody>\n",
       "</table>\n",
       "<p>1662 rows × 11 columns</p>\n",
       "</div>"
      ],
      "text/plain": [
       "       object_id        creation_time             name  \\\n",
       "1              2  2013-11-15 03:45:04    Poole Matthew   \n",
       "9             10  2013-01-16 22:08:03     Santos Carla   \n",
       "19            20  2014-03-06 11:46:38    Helms Mikayla   \n",
       "32            33  2014-03-11 06:29:09      Araujo José   \n",
       "41            42  2012-11-11 19:05:07   Pinto Giovanna   \n",
       "...          ...                  ...              ...   \n",
       "11966      11967  2014-01-12 08:12:37    Barbosa Pedro   \n",
       "11968      11969  2013-06-01 00:48:14  Dickinson Aidan   \n",
       "11974      11975  2013-03-23 11:10:11   Daecher Jürgen   \n",
       "11987      11988  2014-03-15 11:04:47      Minick John   \n",
       "11990      11991  2014-04-20 14:22:45    Vaughn Arthur   \n",
       "\n",
       "                                 email     creation_source  \\\n",
       "1               MatthewPoole@gustr.com          ORG_INVITE   \n",
       "9        CarlaFerreiraSantos@gustr.com          ORG_INVITE   \n",
       "19                  lqyvjilf@uhzdq.com              SIGNUP   \n",
       "32          JoseMartinsAraujo@cuvox.de        GUEST_INVITE   \n",
       "41         GiovannaCunhaPinto@cuvox.de              SIGNUP   \n",
       "...                                ...                 ...   \n",
       "11966  PedroFernandesBarbosa@gmail.com        GUEST_INVITE   \n",
       "11968       AidanDickinson@hotmail.com        GUEST_INVITE   \n",
       "11974          JurgenDaecher@gustr.com        GUEST_INVITE   \n",
       "11987            JohnFMinick@yahoo.com   PERSONAL_PROJECTS   \n",
       "11990          ArthurJVaughn@gmail.com  SIGNUP_GOOGLE_AUTH   \n",
       "\n",
       "       last_session_creation_time  opted_in_to_mailing_list  \\\n",
       "1                    1.396238e+09                         0   \n",
       "9                    1.401833e+09                         1   \n",
       "19                   1.401364e+09                         0   \n",
       "32                   1.401518e+09                         0   \n",
       "41                   1.401045e+09                         1   \n",
       "...                           ...                       ...   \n",
       "11966                1.401524e+09                         0   \n",
       "11968                1.401411e+09                         1   \n",
       "11974                1.400757e+09                         1   \n",
       "11987                1.401621e+09                         0   \n",
       "11990                1.401460e+09                         0   \n",
       "\n",
       "       enabled_for_marketing_drip  org_id  invited_by_user_id email_domain  \n",
       "1                               0       1               316.0    gustr.com  \n",
       "9                               1     318              4143.0    gustr.com  \n",
       "19                              0      58                 NaN    uhzdq.com  \n",
       "32                              0     401                79.0     cuvox.de  \n",
       "41                              0     235                 NaN     cuvox.de  \n",
       "...                           ...     ...                 ...          ...  \n",
       "11966                           0      15              5688.0    gmail.com  \n",
       "11968                           1      52              6647.0  hotmail.com  \n",
       "11974                           0      31              6410.0    gustr.com  \n",
       "11987                           0     114                 NaN    yahoo.com  \n",
       "11990                           0     388                 NaN    gmail.com  \n",
       "\n",
       "[1662 rows x 11 columns]"
      ]
     },
     "execution_count": 15,
     "metadata": {},
     "output_type": "execute_result"
    }
   ],
   "source": [
    "adoptedUserIterns"
   ]
  },
  {
   "cell_type": "markdown",
   "metadata": {},
   "source": [
    "We first analyze the Creation Source of the adopted users, that is we analyze how they signed up for their accounts. This will allow us to work on that strategy more to get more adopted users"
   ]
  },
  {
   "cell_type": "code",
   "execution_count": 16,
   "metadata": {},
   "outputs": [],
   "source": [
    "creationSource = adoptedUserIterns['creation_source'].to_list()"
   ]
  },
  {
   "cell_type": "markdown",
   "metadata": {},
   "source": [
    "Getting the Creation Source along with their Counts to see what is the major source for account creation"
   ]
  },
  {
   "cell_type": "code",
   "execution_count": 17,
   "metadata": {},
   "outputs": [],
   "source": [
    "creationSourceCounts = {i:creationSource.count(i) for i in creationSource}"
   ]
  },
  {
   "cell_type": "code",
   "execution_count": 18,
   "metadata": {},
   "outputs": [
    {
     "name": "stdout",
     "output_type": "stream",
     "text": [
      "ORG_INVITE           :577                 \n",
      "SIGNUP               :300                 \n",
      "GUEST_INVITE         :375                 \n",
      "SIGNUP_GOOGLE_AUTH   :239                 \n",
      "PERSONAL_PROJECTS    :171                 \n"
     ]
    }
   ],
   "source": [
    "for key, value in creationSourceCounts.items():\n",
    "    print (\"{:<20} :{:<20}\".format(key, value))"
   ]
  },
  {
   "cell_type": "markdown",
   "metadata": {},
   "source": [
    "We see that majority adopted users are those who have been invited to an organization (as a full member). After that we have those who have signup via asana.com"
   ]
  },
  {
   "cell_type": "markdown",
   "metadata": {},
   "source": [
    "We then analyze the Domain of the adopted users, that is we analyze what Email domain does majority of the adopted users use"
   ]
  },
  {
   "cell_type": "code",
   "execution_count": 19,
   "metadata": {},
   "outputs": [],
   "source": [
    "domain = adoptedUserIterns['email_domain'].to_list()"
   ]
  },
  {
   "cell_type": "markdown",
   "metadata": {},
   "source": [
    "Getting the Email Domain along with their Counts to see what is the major email domain which users have used for account creation"
   ]
  },
  {
   "cell_type": "code",
   "execution_count": 20,
   "metadata": {},
   "outputs": [],
   "source": [
    "domainCounts = {i:domain.count(i) for i in domain}\n",
    "\n",
    "# Getting the top 5 email domains used for signing up\n",
    "domainTop5 = sorted(domainCounts, key=domainCounts.get, reverse=True)[:6]\n",
    "\n",
    "top5WithValues = {domainTop5[0]: domainCounts[domainTop5[0]], domainTop5[1]: domainCounts[domainTop5[1]],\n",
    "                 domainTop5[2]: domainCounts[domainTop5[2]], domainTop5[3]: domainCounts[domainTop5[3]], \n",
    "                 domainTop5[4]: domainCounts[domainTop5[4]], domainTop5[5]: domainCounts[domainTop5[5]], }\n"
   ]
  },
  {
   "cell_type": "code",
   "execution_count": 21,
   "metadata": {},
   "outputs": [
    {
     "name": "stdout",
     "output_type": "stream",
     "text": [
      "gmail.com       :557                 \n",
      "yahoo.com       :268                 \n",
      "hotmail.com     :206                 \n",
      "jourrapide.com  :168                 \n",
      "gustr.com       :154                 \n",
      "cuvox.de        :144                 \n"
     ]
    }
   ],
   "source": [
    "for key, value in top5WithValues.items():\n",
    "    print (\"{:<15} :{:<20}\".format(key, value))"
   ]
  },
  {
   "cell_type": "markdown",
   "metadata": {},
   "source": [
    "We see that majority adopted users are the ones using the gmail.com domain."
   ]
  },
  {
   "cell_type": "markdown",
   "metadata": {},
   "source": [
    "### Visualizing the extracted details"
   ]
  },
  {
   "cell_type": "code",
   "execution_count": 25,
   "metadata": {},
   "outputs": [
    {
     "data": {
      "image/png": "[encoded data removed]",
      "text/plain": [
       "<Figure size 432x288 with 1 Axes>"
      ]
     },
     "metadata": {},
     "output_type": "display_data"
    }
   ],
   "source": [
    "labels = list(creationSourceCounts.keys())\n",
    "values = list(creationSourceCounts.values())\n",
    "\n",
    "colors = ['#ff9999','#66b3ff','#99ff99','#ffcc99']\n",
    "fig1, ax1 = plt.subplots()\n",
    "ax1.pie(values, colors = colors, labels=labels, autopct='%1.1f%%', startangle=90,\n",
    "        textprops={'fontsize':12}, pctdistance = 0.85, labeldistance = 1.05)\n",
    "centre_circle = plt.Circle((0,0),0.70,fc='white')\n",
    "fig = plt.gcf()\n",
    "fig.gca().add_artist(centre_circle)\n",
    "plt.title('Top Creation Source of Adopted Users\\n',fontsize=13)\n",
    "ax1.axis('equal')  \n",
    "plt.tight_layout()\n",
    "plt.show()"
   ]
  },
  {
   "cell_type": "markdown",
   "metadata": {},
   "source": [
    "This figure shows the indicator of adoptive users. It illustrates that percentages of different features of adopted user. It can seen from the figure that most of the adopted user use the ORG_INVITE (invited to an organizatoin) as their creation source. This is the most dominent indicator having percentage 34.7% among all others. The second most dominent feature of adopted users is GUEST_INVITE.   "
   ]
  },
  {
   "cell_type": "code",
   "execution_count": 27,
   "metadata": {},
   "outputs": [
    {
     "data": {
      "image/png": "[encoded data removed]",
      "text/plain": [
       "<Figure size 432x288 with 1 Axes>"
      ]
     },
     "metadata": {},
     "output_type": "display_data"
    }
   ],
   "source": [
    "labels = list(top5WithValues.keys())\n",
    "values = list(top5WithValues.values())\n",
    "\n",
    "colors = ['#ff9999','#66b3ff','#99ff99','#ffcc99']\n",
    "\n",
    "fig1, ax1 = plt.subplots()\n",
    "ax1.pie(values, colors = colors, labels=labels, autopct='%1.1f%%', startangle=90,\n",
    "        textprops={'fontsize':12}, pctdistance = 0.85, labeldistance = 1.05)\n",
    "centre_circle = plt.Circle((0,0),0.70,fc='white')\n",
    "fig = plt.gcf()\n",
    "fig.gca().add_artist(centre_circle)\n",
    "plt.title('Top Email Domains of Adopted Users\\n',fontsize=13)\n",
    "ax1.axis('equal')  \n",
    "plt.tight_layout()\n",
    "plt.show()"
   ]
  },
  {
   "cell_type": "markdown",
   "metadata": {},
   "source": [
    "This figure depicts another most important features of the adopted users which is email domains. Adopted user used many domains like cuvox.de, gustr.com, hotmail.com, gmail.com, jourrapide.com, and yahoo.com. Among all, gmail.com is most frequent domain that has been used by adopted user. It contribution is 37.2% which is higher than all others. "
   ]
  },
  {
   "cell_type": "markdown",
   "metadata": {},
   "source": [
    "## Conclusion"
   ]
  },
  {
   "cell_type": "markdown",
   "metadata": {},
   "source": [
    "The whole dicussion was about to find some indicators for the future adoption. The available datasets have been analyzed carefully and it is concluded that among all other email domains, gmail.com is most frequentely used by adopted users. It contribute above 37% among all others available domains. The second feature is creation source of adopted users. Here ORG_INVITE (organization invite) is the most common feature of adopted users and it contributes about 34% among all others. "
   ]
  }
 ],
 "metadata": {
  "kernelspec": {
   "display_name": "Python 3",
   "language": "python",
   "name": "python3"
  },
  "language_info": {
   "codemirror_mode": {
    "name": "ipython",
    "version": 3
   },
   "file_extension": ".py",
   "mimetype": "text/x-python",
   "name": "python",
   "nbconvert_exporter": "python",
   "pygments_lexer": "ipython3",
   "version": "3.7.3"
  }
 },
 "nbformat": 4,
 "nbformat_minor": 2
}
